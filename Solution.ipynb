{
 "cells": [
  {
   "cell_type": "markdown",
   "metadata": {},
   "source": [
    "### Note\n",
    "* Instructions have been included for each segment. You do not have to follow them exactly, but they are included to help you think through the steps."
   ]
  },
  {
   "cell_type": "code",
   "execution_count": null,
   "metadata": {},
   "outputs": [],
   "source": [
    "# Dependencies and Setup\n",
    "import pandas as pd\n",
    "import numpy as np\n",
    "\n",
    "# File to Load (Remember to Change These)\n",
    "file_to_load = \"Resources/purchase_data.csv\"\n",
    "\n",
    "# Read Purchasing File and store into Pandas data frame\n",
    "purchase_data = pd.read_csv(file_to_load)"
   ]
  },
  {
   "cell_type": "markdown",
   "metadata": {},
   "source": [
    "## Player Count"
   ]
  },
  {
   "cell_type": "markdown",
   "metadata": {},
   "source": [
    "* Display the total number of players\n"
   ]
  },
  {
   "cell_type": "code",
   "execution_count": null,
   "metadata": {},
   "outputs": [],
   "source": [
    "purchase_data = purchase_data.dropna()\n",
    "\n",
    "player_count = len(purchase_data['SN'].unique())\n",
    "\n",
    "print(f\"There are a total of {player_count} players!\")"
   ]
  },
  {
   "cell_type": "markdown",
   "metadata": {},
   "source": [
    "## Purchasing Analysis (Total)"
   ]
  },
  {
   "cell_type": "markdown",
   "metadata": {},
   "source": [
    "* Run basic calculations to obtain number of unique items, average price, etc.\n",
    "\n",
    "\n",
    "* Create a summary data frame to hold the results\n",
    "\n",
    "\n",
    "* Optional: give the displayed data cleaner formatting\n",
    "\n",
    "\n",
    "* Display the summary data frame\n"
   ]
  },
  {
   "cell_type": "code",
   "execution_count": null,
   "metadata": {
    "scrolled": true
   },
   "outputs": [],
   "source": [
    "\n",
    "item_count = len(purchase_data['Item ID'].unique())\n",
    "\n",
    "### Took a shot at finding the extra 4 items, but no luck. This code gave me 226 and I'm not sure what else to do. ###\n",
    "# all_items = []\n",
    "# for item in item_count:\n",
    "#     new_item = item.split(', ')\n",
    "#     for thing in new_item:\n",
    "#         all_items.append(thing)\n",
    "# item_df = pd.DataFrame({\"item\":all_items})\n",
    "# print(len(item_df['item'].unique()))\n",
    "\n",
    "avg_price = f'${round(purchase_data[\"Price\"].mean(),2)}'\n",
    "\n",
    "purchases = purchase_data['Purchase ID'].count()\n",
    "\n",
    "revenue = f\"${purchase_data['Price'].sum()}\"\n",
    "\n",
    "sum_data = {'Unique Items':[item_count],'Average Price Spent':[avg_price],'Total Purchases':[purchases],'Total Revenue':[revenue]}\n",
    "\n",
    "summary_df = pd.DataFrame(sum_data)\n",
    "\n",
    "summary_df\n",
    "\n"
   ]
  },
  {
   "cell_type": "markdown",
   "metadata": {},
   "source": [
    "## Gender Demographics"
   ]
  },
  {
   "cell_type": "markdown",
   "metadata": {},
   "source": [
    "* Percentage and Count of Male Players\n",
    "\n",
    "\n",
    "* Percentage and Count of Female Players\n",
    "\n",
    "\n",
    "* Percentage and Count of Other / Non-Disclosed\n",
    "\n",
    "\n"
   ]
  },
  {
   "cell_type": "code",
   "execution_count": null,
   "metadata": {},
   "outputs": [],
   "source": [
    "purchase_unique = purchase_data.drop_duplicates(subset = \"SN\",keep = \"first\",inplace = False)\n",
    "\n",
    "males = purchase_unique.loc[purchase_unique['Gender']==\"Male\"][\"Gender\"].count()\n",
    "females = purchase_unique.loc[purchase_unique['Gender']==\"Female\"][\"Gender\"].count()\n",
    "others = purchase_unique.loc[purchase_unique['Gender']==\"Other / Non-Disclosed\"][\"Gender\"].count()\n",
    "\n",
    "gender_df = pd.DataFrame({\"Gender\":[\"Male\",\"Female\",\"Other\"],\n",
    "                          \"Players\":[males,females,others]})\n",
    "\n",
    "gender_df[\"Percentage\"] = round(gender_df['Players']/int(player_count)*100,2).astype(str) + \"%\"\n",
    "\n",
    "\n",
    "#gender_df = gender_df.set_index(\"Gender\")\n",
    "\n",
    "\n",
    "gender_df"
   ]
  },
  {
   "cell_type": "markdown",
   "metadata": {},
   "source": [
    "\n",
    "## Purchasing Analysis (Gender)"
   ]
  },
  {
   "cell_type": "markdown",
   "metadata": {},
   "source": [
    "* Run basic calculations to obtain purchase count, avg. purchase price, avg. purchase total per person etc. by gender\n",
    "\n",
    "\n",
    "\n",
    "\n",
    "* Create a summary data frame to hold the results\n",
    "\n",
    "\n",
    "* Optional: give the displayed data cleaner formatting\n",
    "\n",
    "\n",
    "* Display the summary data frame"
   ]
  },
  {
   "cell_type": "code",
   "execution_count": null,
   "metadata": {},
   "outputs": [],
   "source": [
    "tot_males = purchase_data.loc[purchase_data['Gender']==\"Male\"][\"Gender\"].count()\n",
    "tot_females = purchase_data.loc[purchase_data['Gender']==\"Female\"][\"Gender\"].count()\n",
    "tot_others = purchase_data.loc[purchase_data['Gender']==\"Other / Non-Disclosed\"][\"Gender\"].count()\n",
    "\n",
    "avg_males = f\"${round(purchase_data.loc[purchase_data['Gender']=='Male']['Price'].sum()/tot_males,2)}\"\n",
    "avg_females = f\"${round(purchase_data.loc[purchase_data['Gender']=='Female']['Price'].sum()/tot_females,2)}\"\n",
    "avg_others = f\"${round(purchase_data.loc[purchase_data['Gender']=='Other / Non-Disclosed']['Price'].sum()/tot_others,2)}\"\n",
    "\n",
    "purchase_mal = round(purchase_data.loc[purchase_data['Gender']=='Male']['Price'].sum(),2)\n",
    "purchase_fem = round(purchase_data.loc[purchase_data['Gender']=='Female']['Price'].sum(),2)\n",
    "purchase_oth = round(purchase_data.loc[purchase_data['Gender']=='Other / Non-Disclosed']['Price'].sum(),2)\n",
    "\n",
    "per_male = f\"${round(purchase_mal/males,2)}\"\n",
    "per_female = f\"${round(purchase_fem/females,2)}\"\n",
    "per_other = f\"${round(purchase_oth/others,2)}\"\n",
    "\n",
    "purchase_sum = pd.DataFrame({\"Gender\":[\"Male\",\"Female\",\"Other\"],\n",
    "                             \"Purchase Count\":[tot_males,tot_females,tot_others],\n",
    "                             \"Average Purchase Price\":[avg_males,avg_females,avg_others],\n",
    "                             \"Total Purchase Price\":[f\"${purchase_mal}\",f\"${purchase_fem}\",f\"${purchase_oth}\"],\n",
    "                             \"Average Price Per Person\":[per_male,per_female,per_other]})\n",
    "purchase_sum"
   ]
  },
  {
   "cell_type": "markdown",
   "metadata": {},
   "source": [
    "## Age Demographics"
   ]
  },
  {
   "cell_type": "markdown",
   "metadata": {},
   "source": [
    "* Establish bins for ages\n",
    "\n",
    "\n",
    "* Categorize the existing players using the age bins. Hint: use pd.cut()\n",
    "\n",
    "\n",
    "* Calculate the numbers and percentages by age group\n",
    "\n",
    "\n",
    "* Create a summary data frame to hold the results\n",
    "\n",
    "\n",
    "* Optional: round the percentage column to two decimal points\n",
    "\n",
    "\n",
    "* Display Age Demographics Table\n"
   ]
  },
  {
   "cell_type": "code",
   "execution_count": null,
   "metadata": {},
   "outputs": [],
   "source": [
    "age_bins = [0,9,14,19,24,29,34,39,purchase_unique['Age'].max()]\n",
    "groups = ['<10',\"10-14\",'15-19','20-24','25-29','30-34','35-39','40+']\n",
    "purchase_unique['Age Group'] = pd.cut(purchase_unique['Age'],age_bins,labels = groups)\n",
    "age_counts = []\n",
    "age_df = purchase_unique.drop(columns = ['Purchase ID','SN','Item Name','Price',\"Gender\", 'Item ID'])\n",
    "age_df = age_df.set_index(\"Age Group\")\n",
    "for item in groups:\n",
    "    age_counts.append(age_df.loc[item][\"Age\"].count())\n",
    "#age_counts\n",
    "\n",
    "age_summary = pd.DataFrame({\"Age Group\":groups,\"Number of Players\":age_counts}).set_index(\"Age Group\")\n",
    "age_summary[\"Percentage of Players\"] = round(age_summary['Number of Players']/player_count*100,2).astype(str)+\"%\"\n",
    "\n",
    "age_summary"
   ]
  },
  {
   "cell_type": "markdown",
   "metadata": {},
   "source": [
    "## Purchasing Analysis (Age)"
   ]
  },
  {
   "cell_type": "markdown",
   "metadata": {},
   "source": [
    "* Bin the purchase_data data frame by age\n",
    "\n",
    "\n",
    "* Run basic calculations to obtain purchase count, avg. purchase price, avg. purchase total per person etc. in the table below\n",
    "\n",
    "\n",
    "* Create a summary data frame to hold the results\n",
    "\n",
    "\n",
    "* Optional: give the displayed data cleaner formatting\n",
    "\n",
    "\n",
    "* Display the summary data frame"
   ]
  },
  {
   "cell_type": "code",
   "execution_count": null,
   "metadata": {},
   "outputs": [],
   "source": [
    "purchase_data['Age Group'] = pd.cut(purchase_data['Age'],age_bins,labels = groups)\n",
    "purchase_dat = purchase_data.set_index(\"Age Group\")\n",
    "counts = []\n",
    "for item in groups:\n",
    "    counts.append(purchase_dat.loc[item][\"SN\"].count())\n",
    "purchase_total = []\n",
    "for item in groups:\n",
    "    purchase_total.append(round(purchase_dat.loc[item]['Price'].sum(),2))\n",
    "age_purch = pd.DataFrame({\"Age Group\":groups,\"Purchase Count\":counts,\"Total Purchase Value\":purchase_total})\n",
    "age_purch['Average Purchase Price'] = \"$\"+round(age_purch['Total Purchase Value']/age_purch['Purchase Count'],2).astype(str)\n",
    "\n",
    "age_purch"
   ]
  },
  {
   "cell_type": "markdown",
   "metadata": {},
   "source": [
    "## Top Spenders"
   ]
  },
  {
   "cell_type": "markdown",
   "metadata": {},
   "source": [
    "* Run basic calculations to obtain the results in the table below\n",
    "\n",
    "\n",
    "* Create a summary data frame to hold the results\n",
    "\n",
    "\n",
    "* Sort the total purchase value column in descending order\n",
    "\n",
    "\n",
    "* Optional: give the displayed data cleaner formatting\n",
    "\n",
    "\n",
    "* Display a preview of the summary data frame\n",
    "\n"
   ]
  },
  {
   "cell_type": "code",
   "execution_count": null,
   "metadata": {},
   "outputs": [],
   "source": [
    "sn_list = purchase_data['SN'].unique()\n",
    "sn_counts = []\n",
    "avg_price_sn = []\n",
    "tot_price_sn = []\n",
    "for item in sn_list:\n",
    "    sn_counts.append(purchase_data.loc[purchase_data['SN']==item][\"Age\"].count())\n",
    "    avg_price_sn.append(\"$\"+str(round(purchase_data.loc[purchase_data[\"SN\"]==item][\"Price\"].mean(),2)))\n",
    "    tot_price_sn.append(\"$\"+str(round(purchase_data.loc[purchase_data[\"SN\"]==item][\"Price\"].sum(),2)))\n",
    "sn_counts\n",
    "\n",
    "sn_table = pd.DataFrame({\"SN\":sn_list,\"Total Purchases\":sn_counts,\"Average Purchase Price\":avg_price_sn,\"Total Purchase Value\":tot_price_sn})\n",
    "sn_table = sn_table.set_index(\"SN\")\n",
    "sn_table = sn_table.sort_values(by=['Total Purchases'],ascending = False)\n",
    "sn_table"
   ]
  },
  {
   "cell_type": "markdown",
   "metadata": {},
   "source": [
    "## Most Popular Items"
   ]
  },
  {
   "cell_type": "markdown",
   "metadata": {},
   "source": [
    "* Retrieve the Item ID, Item Name, and Item Price columns\n",
    "\n",
    "\n",
    "* Group by Item ID and Item Name. Perform calculations to obtain purchase count, item price, and total purchase value\n",
    "\n",
    "\n",
    "* Create a summary data frame to hold the results\n",
    "\n",
    "\n",
    "* Sort the purchase count column in descending order\n",
    "\n",
    "\n",
    "* Optional: give the displayed data cleaner formatting\n",
    "\n",
    "\n",
    "* Display a preview of the summary data frame\n",
    "\n"
   ]
  },
  {
   "cell_type": "code",
   "execution_count": null,
   "metadata": {},
   "outputs": [],
   "source": [
    "item_list = purchase_data['Item Name'].unique()\n",
    "item_counts = []\n",
    "price_item = []\n",
    "tot_price_item = []\n",
    "for item in item_list:\n",
    "    item_counts.append(purchase_data.loc[purchase_data['Item Name']==item][\"Age\"].count())\n",
    "    price_item.append(\"$\"+str(round(purchase_data.loc[purchase_data[\"Item Name\"]==item][\"Price\"].mean(),2)))\n",
    "    tot_price_item.append(round(purchase_data.loc[purchase_data[\"Item Name\"]==item][\"Price\"].sum(),2))\n",
    "\n",
    "item_table = pd.DataFrame({\"Item Name\":item_list,\n",
    "                           \"Total Purchases\":item_counts,\n",
    "                           \"Purchase Price\":price_item,\n",
    "                           \"Total Purchase Value\":tot_price_item})\n",
    "item_table = item_table.set_index(\"Item Name\")\n",
    "item_table_new = item_table.sort_values(by=['Total Purchases'],ascending = False)\n",
    "item_table_new['Total Purchase Value'] = \"$\"+item_table_new['Total Purchase Value'].astype(str)\n",
    "item_table_new.head()"
   ]
  },
  {
   "cell_type": "markdown",
   "metadata": {},
   "source": [
    "## Most Profitable Items"
   ]
  },
  {
   "cell_type": "markdown",
   "metadata": {},
   "source": [
    "* Sort the above table by total purchase value in descending order\n",
    "\n",
    "\n",
    "* Optional: give the displayed data cleaner formatting\n",
    "\n",
    "\n",
    "* Display a preview of the data frame\n",
    "\n"
   ]
  },
  {
   "cell_type": "code",
   "execution_count": null,
   "metadata": {
    "scrolled": true
   },
   "outputs": [],
   "source": [
    "new_item_table = item_table.sort_values(by=['Total Purchase Value'],ascending = False)\n",
    "new_item_table['Total Purchase Value'] = \"$\"+new_item_table['Total Purchase Value'].astype(str)\n",
    "new_item_table.head()"
   ]
  },
  {
   "cell_type": "code",
   "execution_count": null,
   "metadata": {},
   "outputs": [],
   "source": []
  }
 ],
 "metadata": {
  "anaconda-cloud": {},
  "kernel_info": {
   "name": "python3"
  },
  "kernelspec": {
   "display_name": "Python 3",
   "language": "python",
   "name": "python3"
  },
  "language_info": {
   "codemirror_mode": {
    "name": "ipython",
    "version": 3
   },
   "file_extension": ".py",
   "mimetype": "text/x-python",
   "name": "python",
   "nbconvert_exporter": "python",
   "pygments_lexer": "ipython3",
   "version": "3.7.4"
  },
  "latex_envs": {
   "LaTeX_envs_menu_present": true,
   "autoclose": false,
   "autocomplete": true,
   "bibliofile": "biblio.bib",
   "cite_by": "apalike",
   "current_citInitial": 1,
   "eqLabelWithNumbers": true,
   "eqNumInitial": 1,
   "hotkeys": {
    "equation": "Ctrl-E",
    "itemize": "Ctrl-I"
   },
   "labels_anchors": false,
   "latex_user_defs": false,
   "report_style_numbering": false,
   "user_envs_cfg": false
  },
  "nteract": {
   "version": "0.2.0"
  }
 },
 "nbformat": 4,
 "nbformat_minor": 2
}
